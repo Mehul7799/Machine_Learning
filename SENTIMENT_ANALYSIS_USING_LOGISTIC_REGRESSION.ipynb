{
 "cells": [
  {
   "cell_type": "code",
   "execution_count": 1,
   "id": "2ff3cd60",
   "metadata": {},
   "outputs": [],
   "source": [
    "###### SENTIMENT ANALYSIS USING LOGISTIC REGRESSION ###########\n",
    "\n",
    "# - The \"sentiment\" dataset consists of 3000 sentences which come from reviews on \"imdb.com\", \n",
    "#\"amazon.com\", and \"yelp.com\". Each sentence is labeled according to whether it comes from a positive review or negative review.\n",
    "# - The data set consists of 3000 sentences, each labeled '1' (if it came from a positive review) \n",
    "#or '0' (if it came from a negative review). To be consistent with our notation from lecture, \n",
    "#we will change the negative review label to '-1'.\n",
    "# - We will use logistic regression to learn a classifier from this data.\n",
    "\n",
    "## 1. Load and Preprocess data\n",
    "\n",
    "import string \n",
    "import numpy as np \n",
    "import matplotlib \n",
    "import matplotlib.pyplot as plt \n",
    "matplotlib.rc('xtick', labelsize=14) \n",
    "matplotlib.rc('ytick', labelsize=14) \n",
    "from sklearn.feature_extraction.text import CountVectorizer \n",
    "from sklearn.linear_model import SGDClassifier \n",
    "import warnings \n",
    "warnings.filterwarnings(\"ignore\") \n",
    "#Read in the data set: \n",
    "with open(\"data/full_set.txt\") as f: \n",
    "    content = f.readlines()\n",
    "#Remove leading and trailing white space \n",
    "content = [x.strip() for x in content] \n",
    "#Separate the sentences from the labels: \n",
    "sentences = [x.split(\"\\t\")[0] for x in content] \n",
    "labels = [x.split(\"\\t\")[1] for x in content] \n",
    "#Transform the labels from '0 versus 1' to '-1 versus 1': \n",
    "y = np.array(labels, dtype='int8') \n",
    "y = 2*y - 1"
   ]
  },
  {
   "cell_type": "code",
   "execution_count": 2,
   "id": "4cabc7ac",
   "metadata": {},
   "outputs": [
    {
     "name": "stdout",
     "output_type": "stream",
     "text": [
      "train data:  (2500, 4500)\n",
      "test data:  (500, 4500)\n"
     ]
    }
   ],
   "source": [
    "'''Preprocessing the text data\n",
    " To transform this prediction problem into an linear classification, we will need to preprocess the text data. We will do four transformations:\n",
    "o Remove punctuation and numbers.\n",
    "o Transform all words to lower-case.\n",
    "o Remove stop words.\n",
    "o Convert the sentences into vectors, using a bag-of-words representation.\n",
    " We begin with first two steps'''\n",
    "\n",
    "#\"full_remove\" takes a string x and a list of characters \"removal_list\" and returns with \n",
    "#all the characters in removal_list replaced by ' ' . \n",
    "def full_remove(x, removal_list): \n",
    "    for w in removal_list: \n",
    "        x = x.replace(w, ' ') \n",
    "    return x\n",
    "\n",
    "digits = [str(x) for x in range(10)] # Remove digits \n",
    "digit_less = [full_remove(x, digits) for x in sentences] \n",
    "punc_less = [full_remove(x, list(string.punctuation)) for x in digit_less] # Remove punctuation \n",
    "sents_lower = [x.lower() for x in punc_less] # Make everything lower-case\n",
    "\n",
    "#Stop words - Stop words are the words that are filtered out because \n",
    "# they are believed to contain no useful information for the task at hand. \n",
    "# These usually include articles such as 'a' and 'the', pronouns such # as 'i' and 'they', and prepositions such 'to' and 'from'. \n",
    "# We have put together a very small list of stop words, \n",
    "# but these are by no means comprehensive.\n",
    "\n",
    "# Define our stop words \n",
    "stop_set = set(['the', 'a', 'an', 'i', 'he', 'she', 'they', 'to', 'of', 'it', 'from'])\n",
    "# Remove stop words \n",
    "sents_split = [x.split() for x in sents_lower] \n",
    "sents_processed = [\" \".join(list(filter(lambda a: a not in stop_set, x))) for x in sents_split]\n",
    "#Let us look at the sentences: \n",
    "sents_processed[0:10]\n",
    "\n",
    "\"\"\"Bag of words\n",
    " In order to use linear classifiers on our data set, we need to transform our textual data into numeric data. The classical way to do this is known as the bag of words representation.\n",
    " In this representation, each word is thought of as corresponding to a number in \"{1, 2, ..., V}\" where \"V\" is the size of our vocabulary. And each sentence is represented as a V-dimensional vector , where is the number of times that word occurs in the sentence.\n",
    " To do this transformation, we will make use of the \"CountVectorizer\" class in \"scikit-learn\". We will cap the number of features at 4500, meaning a word will make it into our vocabulary only if it is one of the 4500 most common words in the corpus. This is often a useful step as it can weed out spelling mistakes and words which occur too infrequently to be useful.\n",
    " Finally, we will also append a '1' to the end of each vector to allow our linear classifier to learn a bias term.\"\"\"\n",
    "\n",
    "\n",
    "# Transform to bag of words representation. \n",
    "vectorizer = CountVectorizer(analyzer = \"word\", tokenizer = None, preprocessor = None, stop_words = None, max_features = 4500) \n",
    "data_features = vectorizer.fit_transform(sents_processed) \n",
    "# Append '1' to the end of each vector. \n",
    "data_mat = data_features.toarray() \n",
    "#Training / test split - We split the data into a training set of 2500 sentences \n",
    "# and a test set of 500 sentences (of which 250 are positive and 250 negative). \n",
    "# Split the data into testing and training sets np.random.seed(0) \n",
    "test_inds = np.append(np.random.choice((np.where(y==-1))[0], 250, replace=False), np.random.choice((np.where(y==1))[0], 250, replace=False)) \n",
    "train_inds = list(set(range(len(labels))) - set(test_inds)) \n",
    "train_data = data_mat[train_inds,] \n",
    "train_labels = y[train_inds] \n",
    "test_data = data_mat[test_inds,] \n",
    "test_labels = y[test_inds] \n",
    "print(\"train data: \", train_data.shape) \n",
    "print(\"test data: \", test_data.shape)"
   ]
  },
  {
   "cell_type": "code",
   "execution_count": 3,
   "id": "486c0b12",
   "metadata": {},
   "outputs": [
    {
     "name": "stdout",
     "output_type": "stream",
     "text": [
      "Training error:  0.002\n",
      "Test error:  0.216\n"
     ]
    }
   ],
   "source": [
    "## 2. Fitting a logistic regression model to the training data\n",
    "# We could implement our own logistic regression solver using stochastic gradient descent, but fortunately, \n",
    "#there is already one built into \"scikit-learn\".\n",
    "# Due to the randomness in the SGD procedure, different runs can yield slightly \n",
    "#different solutions (and thus different error values).\n",
    "\n",
    "# Fit logistic classifier on training data \n",
    "clf = SGDClassifier(loss=\"log\", penalty=\"none\") \n",
    "clf.fit(train_data, train_labels) \n",
    "# Pull out the parameters (w,b) of the logistic regression model \n",
    "w = clf.coef_[0,:] \n",
    "b = clf.intercept_ \n",
    "# Get predictions on training and test data \n",
    "preds_train = clf.predict(train_data) \n",
    "preds_test = clf.predict(test_data) \n",
    "# Compute errors \n",
    "errs_train = np.sum((preds_train > 0.0) != (train_labels > 0.0)) \n",
    "errs_test = np.sum((preds_test > 0.0) != (test_labels > 0.0)) \n",
    "print (\"Training error: \", float(errs_train)/len(train_labels)) \n",
    "print (\"Test error: \", float(errs_test)/len(test_labels))"
   ]
  },
  {
   "cell_type": "code",
   "execution_count": 4,
   "id": "4bf8823f",
   "metadata": {},
   "outputs": [
    {
     "data": {
      "image/png": "[encoded data removed]",
      "text/plain": [
       "<Figure size 432x288 with 1 Axes>"
      ]
     },
     "metadata": {
      "needs_background": "light"
     },
     "output_type": "display_data"
    }
   ],
   "source": [
    "### 3. Analyzing the margin\n",
    "\n",
    "# The logistic regression model produces not just classifications but also conditional probability estimates.\n",
    "# We will say that \"x\" has margin \"gamma\" if (according to the logistic regression model) \n",
    "#\"Pr(y=1|x) > (1/2)+gamma\" or \"Pr(y=1|x) < (1/2)-gamma\". The following function margin_counts \n",
    "#takes as input as the classifier (\"clf\", computed earlier), the test set (\"test_data\"), and a \n",
    "#value of \"gamma\", and computes how many points in the test set have margin of at least \"gamma\".\n",
    "\n",
    "\n",
    "# Return number of test points for which Pr(y=1) lies in [0, 0.5 - gamma) or (0.5 + gamma, 1] \n",
    "def margin_counts(clf, test_data, gamma):\n",
    "    # Compute probability on each test point \n",
    "    preds = clf.predict_proba(test_data)[:,1] \n",
    "    # Find data points for which prediction is at least gamma away from 0.5 \n",
    "    margin_inds = np.where((preds > (0.5+gamma)) | (preds < (0.5-gamma)))[0] \n",
    "    return float(len(margin_inds)) \n",
    "#Let us visualize the test set's distribution of margin values. \n",
    "gammas = np.arange(0, 0.5, 0.01) \n",
    "f = np.vectorize(lambda g: margin_counts(clf, test_data, g)) \n",
    "plt.plot(gammas, f(gammas) / 500.0, linewidth=2, color='green') \n",
    "plt.xlabel('Margin', fontsize=14) \n",
    "plt.ylabel('Fraction of points above margin', fontsize=14) \n",
    "plt.show()"
   ]
  },
  {
   "cell_type": "code",
   "execution_count": 5,
   "id": "52928248",
   "metadata": {},
   "outputs": [
    {
     "data": {
      "image/png": "[encoded data removed]",
      "text/plain": [
       "<Figure size 432x288 with 1 Axes>"
      ]
     },
     "metadata": {
      "needs_background": "light"
     },
     "output_type": "display_data"
    }
   ],
   "source": [
    "#We investigate a natural question: \"Are points \"x\" with larger margin more likely to \n",
    "# be classified correctly? To address this, we define a function margin_errors \n",
    "# that computes the fraction of points with margin at least \"gamma\" that are misclassified. \n",
    "# Return error of predictions that lie in intervals [0, 0.5 - gamma) and (0.5 + gamma, 1] \n",
    "def margin_errors(clf, test_data, test_labels, gamma): \n",
    "    # Compute probability on each test point \n",
    "    preds = clf.predict_proba(test_data)[:,1] \n",
    "    # Find data points for which prediction is at least gamma away from 0.5 \n",
    "    margin_inds = np.where((preds > (0.5+gamma)) | (preds < (0.5-gamma)))[0] \n",
    "    # Compute error on those data points. \n",
    "    num_errors = np.sum((preds[margin_inds] > 0.5) != (test_labels[margin_inds] > 0.0)) \n",
    "    return float(num_errors)/len(margin_inds)\n",
    "\n",
    "#Let us visualize the relationship between margin and error rate. \n",
    "# Create grid of gamma values \n",
    "gammas = np.arange(0, 0.5, 0.01) \n",
    "# Compute margin_errors on test data for each value of g \n",
    "f = np.vectorize(lambda g: margin_errors(clf, test_data, test_labels, g)) \n",
    "# Plot the result \n",
    "plt.plot(gammas, f(gammas), linewidth=2) \n",
    "plt.ylabel('Error rate', fontsize=14) \n",
    "plt.xlabel('Margin', fontsize=14) \n",
    "plt.show()"
   ]
  },
  {
   "cell_type": "code",
   "execution_count": 6,
   "id": "1f6955ac",
   "metadata": {},
   "outputs": [
    {
     "name": "stdout",
     "output_type": "stream",
     "text": [
      "Highly negative words: \n",
      "['poor', 'worst', 'another', 'slow', 'dry', 'ok', 'dont', 'unconvincing', 'walked', 'disappointment', 'sick', 'rude', 'asked', 'stupid', 'torture', 'avoid', 'awful', 'hours', 'disappointing', 'intelligence', 'horrible', 'old', 'ruthless', 'zero', 'minute', 'doubt', 'cannot', 'sucked', 'plot', 'didn', 'worse', 'literally', 'bland', 'bad', 'bring', 'difficult', 'mediocre', 'rice', 'return', 'average', 'script', 'services', 'rated', 'flat', 'isn', 'unfortunately', 'fails', 'felt', 'guess', 'min']\n",
      "Highly positive words: \n",
      "['ceases', 'quick', 'scottsdale', 'man', 'memorable', 'interesting', 'child', 'cartoon', 'amazing', 'usually', 'reminded', 'game', 'south', 'type', 'soundtrack', 'light', 'played', 'excellent', 'cute', 'years', 'white', 'well', 'superb', 'fun', 'rocks', 'roles', 'mouth', 'works', 'pleased', 'incredible', 'score', 'journey', 'liked', 'sex', 'enjoyed', 'inside', 'beautiful', 'fine', 'vegas', 'delicious', 'loved', 'great', 'perfectly', 'wonderful', 'happier', 'awesome', 'perfect', 'nice']\n",
      "Highly negative words: \n",
      "['poor', 'worst', 'another', 'slow', 'dry', 'ok', 'dont', 'unconvincing', 'walked', 'disappointment', 'sick', 'rude', 'asked', 'stupid', 'torture', 'avoid', 'awful', 'hours', 'disappointing', 'intelligence', 'horrible', 'old', 'ruthless', 'zero', 'minute', 'doubt', 'cannot', 'sucked', 'plot', 'didn', 'worse', 'literally', 'bland', 'bad', 'bring', 'difficult', 'mediocre', 'rice', 'return', 'average', 'script', 'services', 'rated', 'flat', 'isn', 'unfortunately', 'fails', 'felt', 'guess', 'min']\n",
      "Highly positive words: \n",
      "['ceases', 'quick', 'scottsdale', 'man', 'memorable', 'interesting', 'child', 'cartoon', 'amazing', 'usually', 'reminded', 'game', 'south', 'type', 'soundtrack', 'light', 'played', 'excellent', 'cute', 'years', 'white', 'well', 'superb', 'fun', 'rocks', 'roles', 'mouth', 'works', 'pleased', 'incredible', 'score', 'journey', 'liked', 'sex', 'enjoyed', 'inside', 'beautiful', 'fine', 'vegas', 'delicious', 'loved', 'great', 'perfectly', 'wonderful', 'happier', 'awesome', 'perfect', 'nice']\n"
     ]
    }
   ],
   "source": [
    "###### 4. Words with large influence\n",
    "\n",
    "# Finally, we attempt to partially interpret the logistic regression model.\n",
    "# Which words are most important in deciding whether a sentence is positive? \n",
    "#As a first approximation to this, we simply take the words whose coefficients in \"w\" have the largest positive values.\n",
    "# Likewise, we look at the words whose coefficients in \"w\" have the most negative values, \n",
    "#and we think of these as influential in negative predictions.\n",
    "\n",
    "# Convert vocabulary into a list: \n",
    "vocab = np.array([z[0] for z in sorted(vectorizer.vocabulary_.items(), key=lambda x:x[1])]) \n",
    "# Get indices of sorting w \n",
    "inds = np.argsort(w) \n",
    "# Words with large negative values\n",
    "neg_inds = inds[0:50] \n",
    "print(\"Highly negative words: \") \n",
    "print([str(x) for x in list(vocab[neg_inds])]) \n",
    "# Words with large positive values \n",
    "pos_inds = inds[-49:-1] \n",
    "print(\"Highly positive words: \") \n",
    "print([str(x) for x in list(vocab[pos_inds])])\n",
    "neg_inds = inds[0:50] \n",
    "print(\"Highly negative words: \") \n",
    "print([str(x) for x in list(vocab[neg_inds])]) \n",
    "# Words with large positive values \n",
    "pos_inds = inds[-49:-1] \n",
    "print(\"Highly positive words: \") \n",
    "print([str(x) for x in list(vocab[pos_inds])])"
   ]
  },
  {
   "cell_type": "code",
   "execution_count": null,
   "id": "5ae51d7b",
   "metadata": {},
   "outputs": [],
   "source": []
  }
 ],
 "metadata": {
  "kernelspec": {
   "display_name": "Python 3 (ipykernel)",
   "language": "python",
   "name": "python3"
  },
  "language_info": {
   "codemirror_mode": {
    "name": "ipython",
    "version": 3
   },
   "file_extension": ".py",
   "mimetype": "text/x-python",
   "name": "python",
   "nbconvert_exporter": "python",
   "pygments_lexer": "ipython3",
   "version": "3.9.12"
  }
 },
 "nbformat": 4,
 "nbformat_minor": 5
}
