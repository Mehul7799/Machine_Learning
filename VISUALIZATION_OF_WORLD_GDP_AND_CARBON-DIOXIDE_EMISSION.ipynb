{
 "cells": [
  {
   "cell_type": "code",
   "execution_count": 1,
   "id": "eb81f847",
   "metadata": {},
   "outputs": [
    {
     "name": "stdout",
     "output_type": "stream",
     "text": [
      "data.shape:  (5656458, 6)\n",
      "Sample Data: \n",
      "   CountryName CountryCode                                      IndicatorName  \\\n",
      "0  Arab World         ARB  Adolescent fertility rate (births per 1,000 wo...   \n",
      "1  Arab World         ARB  Age dependency ratio (% of working-age populat...   \n",
      "2  Arab World         ARB  Age dependency ratio, old (% of working-age po...   \n",
      "3  Arab World         ARB  Age dependency ratio, young (% of working-age ...   \n",
      "4  Arab World         ARB        Arms exports (SIPRI trend indicator values)   \n",
      "\n",
      "    IndicatorCode  Year         Value  \n",
      "0     SP.ADO.TFRT  1960  1.335609e+02  \n",
      "1     SP.POP.DPND  1960  8.779760e+01  \n",
      "2  SP.POP.DPND.OL  1960  6.634579e+00  \n",
      "3  SP.POP.DPND.YG  1960  8.102333e+01  \n",
      "4  MS.MIL.XPRT.KD  1960  3.000000e+06  \n",
      "Columns: \n",
      " Index(['CountryName', 'CountryCode', 'IndicatorName', 'IndicatorCode', 'Year',\n",
      "       'Value'],\n",
      "      dtype='object')\n"
     ]
    }
   ],
   "source": [
    "#World Development Indicators\n",
    "#The World Development Indicators dataset obtained from the World Bank containing over \n",
    "#a thousand annual indicators of economic development from hundreds of countries around the world.\n",
    "\n",
    "import pandas as pd \n",
    "import numpy as np \n",
    "import random \n",
    "import matplotlib.pyplot as plt \n",
    "import matplotlib.cbook \n",
    "import zipfile \n",
    "import bz2 \n",
    "import warnings \n",
    "warnings.filterwarnings(\"ignore\",category=matplotlib.cbook.mplDeprecation)\n",
    "\n",
    "#Let us read the dataset \n",
    "data = pd.read_csv('data/Indicators.bz2') #data = pd.read_csv('data/Indicators.bz2', compression = 'bz2')\n",
    "print(\"data.shape: \", data.shape)\n",
    "#This is a really large dataset, at least in terms of the number of rows. \n",
    "print(\"Sample Data: \\n\",data.head()) \n",
    "print(\"Columns: \\n\",data.columns)"
   ]
  },
  {
   "cell_type": "code",
   "execution_count": 2,
   "id": "85db09cd",
   "metadata": {},
   "outputs": [
    {
     "name": "stdout",
     "output_type": "stream",
     "text": [
      "Number of countries:  247\n"
     ]
    }
   ],
   "source": [
    "#From the above dataset, it looks like it has different indicators for different \n",
    "# countries with the year and value of the indicator.\n",
    "\n",
    "#How many UNIQUE country names are there ? \n",
    "countries = data['CountryName'].unique().tolist() \n",
    "print(\"Number of countries: \",len(countries))"
   ]
  },
  {
   "cell_type": "code",
   "execution_count": 3,
   "id": "d9e9bd28",
   "metadata": {},
   "outputs": [
    {
     "name": "stdout",
     "output_type": "stream",
     "text": [
      "Number of country codes:  247\n"
     ]
    }
   ],
   "source": [
    "#Are there same number of country codes ? \n",
    "#How many unique country codes are there? \n",
    "#It should be the same as number of unique countries.\n",
    "countryCodes = data['CountryCode'].unique().tolist() \n",
    "print(\"Number of country codes: \",len(countryCodes))"
   ]
  },
  {
   "cell_type": "code",
   "execution_count": 4,
   "id": "59f3c163",
   "metadata": {},
   "outputs": [
    {
     "name": "stdout",
     "output_type": "stream",
     "text": [
      "Number of indicators:  1344\n"
     ]
    }
   ],
   "source": [
    "#Are there many indicators or few ? \n",
    "#How many unique indicators are there?\n",
    "indicators = data['IndicatorName'].unique().tolist() \n",
    "print(\"Number of indicators: \",len(indicators))"
   ]
  },
  {
   "cell_type": "code",
   "execution_count": 5,
   "id": "b2f1604c",
   "metadata": {},
   "outputs": [
    {
     "name": "stdout",
     "output_type": "stream",
     "text": [
      "Number of years:  56\n"
     ]
    }
   ],
   "source": [
    "#How many years of data do we have ? \n",
    "years = data['Year'].unique().tolist() \n",
    "print(\"Number of years: \",len(years))"
   ]
  },
  {
   "cell_type": "code",
   "execution_count": 6,
   "id": "8fccb4c8",
   "metadata": {},
   "outputs": [
    {
     "name": "stdout",
     "output_type": "stream",
     "text": [
      "1960  to  2015\n"
     ]
    }
   ],
   "source": [
    "#What's the range of years? \n",
    "print(min(years),\" to \",max(years))"
   ]
  },
  {
   "cell_type": "code",
   "execution_count": 7,
   "id": "b3a6d899",
   "metadata": {},
   "outputs": [
    {
     "name": "stdout",
     "output_type": "stream",
     "text": [
      "(52, 6)\n",
      "          CountryName CountryCode                           IndicatorName  \\\n",
      "22232   United States         USA  CO2 emissions (metric tons per capita)   \n",
      "48708   United States         USA  CO2 emissions (metric tons per capita)   \n",
      "77087   United States         USA  CO2 emissions (metric tons per capita)   \n",
      "105704  United States         USA  CO2 emissions (metric tons per capita)   \n",
      "134742  United States         USA  CO2 emissions (metric tons per capita)   \n",
      "\n",
      "         IndicatorCode  Year      Value  \n",
      "22232   EN.ATM.CO2E.PC  1960  15.999779  \n",
      "48708   EN.ATM.CO2E.PC  1961  15.681256  \n",
      "77087   EN.ATM.CO2E.PC  1962  16.013937  \n",
      "105704  EN.ATM.CO2E.PC  1963  16.482762  \n",
      "134742  EN.ATM.CO2E.PC  1964  16.968119  \n",
      "Indicator Name:  CO2 emissions (metric tons per capita)\n"
     ]
    }
   ],
   "source": [
    "################# \n",
    "## Data Visualization ##\n",
    "#################\n",
    "\n",
    "#Let us pick a country and an indicator to explore CO2 Emissions per capita and the USA. \n",
    "#To select CO2 emissions for the United States, We will take the intersection \n",
    "# of two masks, one with all the rows that contains the string, \n",
    "# \"C02 emissions\" and the other which contains all the rows containing the string, \"USA\".\n",
    "\n",
    "hist_indicator = 'CO2 emissions \\(metric' \n",
    "hist_country = 'USA' \n",
    "mask1 = data['IndicatorName'].str.contains(hist_indicator) \n",
    "mask2 = data['CountryCode'].str.contains(hist_country) \n",
    "stage = data[mask1 & mask2] \n",
    "# stage dataset contain indicators matching the USA for country code & CO2 emissions over time. \n",
    "print (stage.shape)\n",
    "print(stage.head()) \n",
    "print(\"Indicator Name: \", stage['IndicatorName'].iloc[0])"
   ]
  },
  {
   "cell_type": "code",
   "execution_count": 8,
   "id": "141f2193",
   "metadata": {},
   "outputs": [
    {
     "data": {
      "image/png": "[encoded data removed]",
      "text/plain": [
       "<Figure size 432x288 with 1 Axes>"
      ]
     },
     "metadata": {
      "needs_background": "light"
     },
     "output_type": "display_data"
    }
   ],
   "source": [
    "#Let us see how emissions have changed over time using MatplotLib \n",
    "years = stage['Year'].values # get the years \n",
    "co2 = stage['Value'].values # get the values \n",
    "# Plot the Bar graph\n",
    "plt.bar(years,co2) \n",
    "plt.show()"
   ]
  },
  {
   "cell_type": "code",
   "execution_count": 9,
   "id": "89da9107",
   "metadata": {},
   "outputs": [
    {
     "data": {
      "image/png": "[encoded data removed]",
      "text/plain": [
       "<Figure size 432x288 with 1 Axes>"
      ]
     },
     "metadata": {
      "needs_background": "light"
     },
     "output_type": "display_data"
    }
   ],
   "source": [
    "#It is seen that emissions per capita have dropped a bit over time, \n",
    "# but let us make this graph a bit more appealing before we continue to explore it. \n",
    "#Let us create a line plot.\n",
    "\n",
    "plt.plot(stage['Year'].values, stage['Value'].values) \n",
    "# Label the axis \n",
    "plt.xlabel('Year') \n",
    "plt.ylabel(stage['IndicatorName'].iloc[0]) \n",
    "# Label the figure \n",
    "plt.title('CO2 Emissions in USA') \n",
    "# Start the y axis at 0 and x axis from 1959 \n",
    "plt.axis([1959, 2011,0,25]) \n",
    "plt.show()"
   ]
  },
  {
   "cell_type": "code",
   "execution_count": 10,
   "id": "b0142860",
   "metadata": {},
   "outputs": [
    {
     "name": "stdout",
     "output_type": "stream",
     "text": [
      "[15.99977916 15.68125552 16.0139375  16.48276215 16.96811858 17.45172525\n",
      " 18.12107301 18.59831788 19.08938916 19.85794566 21.11125227 20.98020348\n",
      " 21.74864198 22.51058213 21.50293038 20.40222407 21.15761537 21.53248401\n",
      " 21.97300469 21.78043698 20.78648774 19.76676417 18.59049523 18.57154371\n",
      " 18.97675027 18.88231274 18.72072272 19.35033442 20.01041341 20.07576978\n",
      " 19.32336817 19.06223666 19.14555576 19.36346258 19.37655644 19.29565986\n",
      " 19.52789051 19.71427574 19.6151546  19.74781478 20.20761476 19.65619321\n",
      " 19.63919577 19.57623905 19.68358135 19.61027504 19.11613882 19.23746045\n",
      " 18.48923375 17.1923791  17.48479218 17.02021634]\n",
      "52\n"
     ]
    },
    {
     "data": {
      "image/png": "[encoded data removed]",
      "text/plain": [
       "<Figure size 432x288 with 1 Axes>"
      ]
     },
     "metadata": {
      "needs_background": "light"
     },
     "output_type": "display_data"
    }
   ],
   "source": [
    "#Using Histograms to explore the distribution of values \n",
    "#We could also visualize this data as a histogram to better explore \n",
    "# the ranges of values in CO2 production per year. \n",
    "# If we want to just include those within one standard deviation for the mean, you could do the following \n",
    "'''lower = stage['Value'].mean() - stage['Value'].std() \n",
    "upper = stage['Value'].mean() + stage['Value'].std() \n",
    "hist_data = [x for x in stage[:10000]['Value'] if x>lower and x<upper ]'''\n",
    "# Otherwise, let's look at all the data \n",
    "hist_data = stage['Value'].values \n",
    "print(hist_data) \n",
    "print(len(hist_data)) \n",
    "# Histogram of the data \n",
    "plt.hist(hist_data, 10, density=False, facecolor='green') \n",
    "# 10 is the number of bins \n",
    "plt.xlabel(stage['IndicatorName'].iloc[0]) \n",
    "plt.ylabel('# of Years') \n",
    "plt.title('Histogram Example') \n",
    "plt.grid(True) \n",
    "plt.show()"
   ]
  },
  {
   "cell_type": "code",
   "execution_count": 11,
   "id": "e6d76802",
   "metadata": {},
   "outputs": [
    {
     "name": "stdout",
     "output_type": "stream",
     "text": [
      "232\n"
     ]
    },
    {
     "data": {
      "image/png": "[encoded data removed]",
      "text/plain": [
       "<Figure size 432x288 with 1 Axes>"
      ]
     },
     "metadata": {
      "needs_background": "light"
     },
     "output_type": "display_data"
    }
   ],
   "source": [
    "#USA has many years where it produced between 19-20 metric tons per capita with outliers on either side. \n",
    "#But how do the USA's numbers relate to those of other countries? \n",
    "# select CO2 emissions for all countries in 2011\n",
    "\n",
    "hist_indicator = 'CO2 emissions \\(metric' \n",
    "hist_year = 2011 \n",
    "mask1 = data['IndicatorName'].str.contains(hist_indicator) \n",
    "mask2 = data['Year'].isin([hist_year])\n",
    "# apply our mask \n",
    "co2_2011 = data[mask1 & mask2] \n",
    "co2_2011.head()\n",
    "#For how many countries do we have CO2 per capita emissions data in 2011\n",
    "print(len(co2_2011)) \n",
    "# Let us plot a histogram of the emmissions per capita by country \n",
    "# subplots returns a touple with the figure, axis attributes.\n",
    "\n",
    "fig, ax = plt.subplots() \n",
    "ax.annotate(\"USA\",xy=(18, 5), xycoords='data',xytext=(18, 30), textcoords='data', arrowprops=dict(arrowstyle=\"->\",connectionstyle=\"arc3\")) \n",
    "plt.hist(co2_2011['Value'], 10, density=False, facecolor='green') \n",
    "plt.xlabel(stage['IndicatorName'].iloc[0]) \n",
    "plt.ylabel('# of Countries') \n",
    "plt.title('Histogram of CO2 Emissions Per Capita') \n",
    "plt.grid(True) \n",
    "plt.show()"
   ]
  },
  {
   "cell_type": "code",
   "execution_count": 12,
   "id": "90c6d708",
   "metadata": {},
   "outputs": [
    {
     "name": "stdout",
     "output_type": "stream",
     "text": [
      "GDP:            CountryName CountryCode                       IndicatorName  \\\n",
      "22282   United States         USA  GDP per capita (constant 2005 US$)   \n",
      "48759   United States         USA  GDP per capita (constant 2005 US$)   \n",
      "77142   United States         USA  GDP per capita (constant 2005 US$)   \n",
      "105760  United States         USA  GDP per capita (constant 2005 US$)   \n",
      "134798  United States         USA  GDP per capita (constant 2005 US$)   \n",
      "\n",
      "         IndicatorCode  Year         Value  \n",
      "22282   NY.GDP.PCAP.KD  1960  15482.707760  \n",
      "48759   NY.GDP.PCAP.KD  1961  15578.409657  \n",
      "77142   NY.GDP.PCAP.KD  1962  16276.426685  \n",
      "105760  NY.GDP.PCAP.KD  1963  16749.789436  \n",
      "134798  NY.GDP.PCAP.KD  1964  17476.822248  \n"
     ]
    },
    {
     "data": {
      "image/png": "[encoded data removed]",
      "text/plain": [
       "<Figure size 432x288 with 1 Axes>"
      ]
     },
     "metadata": {
      "needs_background": "light"
     },
     "output_type": "display_data"
    }
   ],
   "source": [
    "#USA, at ~18 CO2 emissions (metric tons per capital) is quite high among all countries. \n",
    "#3. Matplotlib: Basic Plotting Part 2 \n",
    "#Relationship between GPD and CO2 Emissions in USA \n",
    "# Select GDP Per capita emissions for the United States\n",
    "hist_indicator = 'GDP per capita \\(constant 2005' \n",
    "hist_country = 'USA' \n",
    "mask1 = data['IndicatorName'].str.contains(hist_indicator) \n",
    "mask2 = data['CountryCode'].str.contains(hist_country) \n",
    "# Stage is just those indicators matching the USA for country code and CO2 emissions over time. \n",
    "gdp_stage = data[mask1 & mask2] \n",
    "# Plot gdp_stage vs stage \n",
    "print(\"GDP: \",gdp_stage.head()) \n",
    "stage.head() \n",
    "# Switch to a line plot \n",
    "plt.plot(gdp_stage['Year'].values, gdp_stage['Value'].values) \n",
    "# Label the axes \n",
    "plt.xlabel('Year') \n",
    "plt.ylabel(gdp_stage['IndicatorName'].iloc[0]) \n",
    "#Label the figure \n",
    "plt.title('GDP Per Capita USA') \n",
    "plt.show()"
   ]
  },
  {
   "cell_type": "code",
   "execution_count": 13,
   "id": "01f66402",
   "metadata": {},
   "outputs": [
    {
     "name": "stdout",
     "output_type": "stream",
     "text": [
      "GDP Min Year =  1960 max:  2014\n",
      "CO2 Min Year =  1960 max:  2011\n"
     ]
    }
   ],
   "source": [
    "#Although we have seen a decline in the CO2 emissions per capita,\n",
    "# it does not seem to translate to a decline in GDP per capita\n",
    "\n",
    "#ScatterPlot for comparing GDP against CO2 emissions (per capita) \n",
    "#First, we will need to make sure we are looking at the same time frames.\n",
    "\n",
    "print(\"GDP Min Year = \", gdp_stage['Year'].min(), \"max: \", gdp_stage['Year'].max()) \n",
    "print(\"CO2 Min Year = \", stage['Year'].min(), \"max: \", stage['Year'].max())"
   ]
  },
  {
   "cell_type": "code",
   "execution_count": 14,
   "id": "89119d21",
   "metadata": {},
   "outputs": [
    {
     "name": "stdout",
     "output_type": "stream",
     "text": [
      "52\n",
      "52\n"
     ]
    }
   ],
   "source": [
    "#We have 3 extra years of GDP data, so let's trim those off so the scatterplot \n",
    "# has equal length arrays to compare (this is actually required by scatterplot)\n",
    "\n",
    "gdp_stage_trunc = gdp_stage[gdp_stage['Year'] < 2012] \n",
    "print(len(gdp_stage_trunc)) \n",
    "print(len(stage))"
   ]
  },
  {
   "cell_type": "code",
   "execution_count": 15,
   "id": "d1bf98f5",
   "metadata": {},
   "outputs": [
    {
     "data": {
      "image/png": "[encoded data removed]",
      "text/plain": [
       "<Figure size 432x288 with 1 Axes>"
      ]
     },
     "metadata": {
      "needs_background": "light"
     },
     "output_type": "display_data"
    },
    {
     "name": "stdout",
     "output_type": "stream",
     "text": [
      "[[1.         0.07676005]\n",
      " [0.07676005 1.        ]]\n"
     ]
    }
   ],
   "source": [
    "import matplotlib.pyplot as plt \n",
    "fig, axis = plt.subplots()\n",
    "# Grid lines, Xticks, Xlabel, Ylabel \n",
    "axis.yaxis.grid(True) \n",
    "axis.set_title('CO2 Emissions vs. GDP (per capita)',fontsize=10) \n",
    "axis.set_xlabel(gdp_stage_trunc['IndicatorName'].iloc[0],fontsize=10) \n",
    "axis.set_ylabel(stage['IndicatorName'].iloc[0],fontsize=10) \n",
    "X = gdp_stage_trunc['Value'] \n",
    "Y = stage['Value'] \n",
    "axis.scatter(X, Y) \n",
    "plt.show() \n",
    "#This does not look like a strong relationship. We can test this by looking at correlation. \n",
    "print(np.corrcoef(gdp_stage_trunc['Value'],stage['Value']))\n",
    "\n",
    "#A correlation of 0.07 is very weak."
   ]
  },
  {
   "cell_type": "code",
   "execution_count": null,
   "id": "4f2907b6",
   "metadata": {},
   "outputs": [],
   "source": []
  }
 ],
 "metadata": {
  "kernelspec": {
   "display_name": "Python 3 (ipykernel)",
   "language": "python",
   "name": "python3"
  },
  "language_info": {
   "codemirror_mode": {
    "name": "ipython",
    "version": 3
   },
   "file_extension": ".py",
   "mimetype": "text/x-python",
   "name": "python",
   "nbconvert_exporter": "python",
   "pygments_lexer": "ipython3",
   "version": "3.9.12"
  }
 },
 "nbformat": 4,
 "nbformat_minor": 5
}
